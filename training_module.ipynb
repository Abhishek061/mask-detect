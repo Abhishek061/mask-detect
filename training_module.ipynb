{
 "cells": [
  {
   "cell_type": "code",
   "execution_count": 1,
   "id": "9dc256d7",
   "metadata": {},
   "outputs": [],
   "source": [
    "# Importing modules\n",
    "from tensorflow.keras.preprocessing.image import ImageDataGenerator\n",
    "from tensorflow.keras.applications import MobileNetV2\n",
    "from tensorflow.keras.layers import AveragePooling2D\n",
    "from tensorflow.keras.layers import Dropout\n",
    "from tensorflow.keras.layers import Flatten\n",
    "from tensorflow.keras.layers import Dense\n",
    "from tensorflow.keras.layers import Input\n",
    "from tensorflow.keras.models import Model\n",
    "from tensorflow.keras.optimizers import Adam\n",
    "from tensorflow.keras.applications.mobilenet_v2 import preprocess_input\n",
    "from tensorflow.keras.preprocessing.image import img_to_array\n",
    "from tensorflow.keras.preprocessing.image import load_img\n",
    "from tensorflow.keras.utils import to_categorical\n",
    "from sklearn.preprocessing import LabelBinarizer\n",
    "from sklearn.model_selection import train_test_split\n",
    "from sklearn.metrics import classification_report\n",
    "from imutils import paths\n",
    "import matplotlib.pyplot as plt\n",
    "import numpy as np\n",
    "import os"
   ]
  },
  {
   "cell_type": "code",
   "execution_count": 2,
   "id": "a066e1e7",
   "metadata": {},
   "outputs": [],
   "source": [
    "# Initialising value\n",
    "INIT_LR = 1e-4\n",
    "EPOCHS = 20\n",
    "BS = 32"
   ]
  },
  {
   "cell_type": "code",
   "execution_count": 3,
   "id": "31ce8a2f",
   "metadata": {},
   "outputs": [],
   "source": [
    "DIRECTORY = r'D:\\ps'\n",
    "CATEGORIES = ['with_mask', 'without_mask']\n",
    "data = []\n",
    "labels = []"
   ]
  },
  {
   "cell_type": "code",
   "execution_count": 4,
   "id": "269a94ac",
   "metadata": {},
   "outputs": [],
   "source": [
    "# Reading datasets and converting to array\n",
    "for category in CATEGORIES:\n",
    "    path = os.path.join(DIRECTORY, category)\n",
    "    for img in os.listdir(path):\n",
    "        img_path = os.path.join(path, img)\n",
    "        image = load_img(img_path, target_size= (224, 224))\n",
    "        image = img_to_array(image)\n",
    "        image = preprocess_input(image)\n",
    "        \n",
    "        data.append(image)\n",
    "        labels.append(category)"
   ]
  },
  {
   "cell_type": "code",
   "execution_count": 5,
   "id": "e11d259b",
   "metadata": {},
   "outputs": [],
   "source": [
    "# Converting the labels into binary\n",
    "lb = LabelBinarizer()\n",
    "labels = lb.fit_transform(labels)\n",
    "labels = to_categorical(labels)\n",
    "\n",
    "data = np.array(data, dtype='float32')\n",
    "labels = np.array(labels)\n",
    "\n",
    "(trainX, testX, trainY, testY) = train_test_split(data, labels, test_size=0.20, stratify=labels, random_state= 42)"
   ]
  },
  {
   "cell_type": "code",
   "execution_count": 6,
   "id": "e57fa995",
   "metadata": {},
   "outputs": [],
   "source": [
    "# Increasing dataset by augmentation\n",
    "aug = ImageDataGenerator(\n",
    "    rotation_range= 20,\n",
    "    zoom_range=0.15,\n",
    "    width_shift_range=0.2,\n",
    "    height_shift_range=0.2,\n",
    "    shear_range=0.15,\n",
    "    horizontal_flip=True,\n",
    "    fill_mode='nearest')"
   ]
  },
  {
   "cell_type": "code",
   "execution_count": 7,
   "id": "b5bab9a7",
   "metadata": {},
   "outputs": [
    {
     "name": "stdout",
     "output_type": "stream",
     "text": [
      "WARNING:tensorflow:`input_shape` is undefined or non-square, or `rows` is not in [96, 128, 160, 192, 224]. Weights for input shape (224, 224) will be loaded as the default.\n"
     ]
    }
   ],
   "source": [
    "#base model by MobileNet\n",
    "baseModel = MobileNetV2(weights='imagenet', include_top=False, input_tensor= Input(shape=(224,224,3)))\n",
    "\n",
    "#head of the model place on top of base model \n",
    "headModel = baseModel.output \n",
    "headModel = AveragePooling2D(pool_size=(7,7))(headModel)\n",
    "headModel = Flatten(name='flattern')(headModel)\n",
    "headModel = Dense(128, activation='relu')(headModel)\n",
    "headModel = Dropout(0.5)(headModel)\n",
    "headModel = Dense(2, activation='softmax')(headModel)\n",
    "\n",
    "model = Model(inputs = baseModel.input, outputs = headModel)\n",
    "\n",
    "#freezing the baseModel so that weight will not updated \n",
    "for layer in baseModel.layers:\n",
    "    layer.trainable = False"
   ]
  },
  {
   "cell_type": "code",
   "execution_count": 8,
   "id": "44bbd565",
   "metadata": {},
   "outputs": [
    {
     "name": "stdout",
     "output_type": "stream",
     "text": [
      "Epoch 1/20\n",
      "48/48 [==============================] - 49s 1s/step - loss: 0.3162 - accuracy: 0.8665 - val_loss: 0.0366 - val_accuracy: 0.9974\n",
      "Epoch 2/20\n",
      "48/48 [==============================] - 52s 1s/step - loss: 0.0655 - accuracy: 0.9810 - val_loss: 0.0156 - val_accuracy: 1.0000\n",
      "Epoch 3/20\n",
      "48/48 [==============================] - 47s 977ms/step - loss: 0.0371 - accuracy: 0.9908 - val_loss: 0.0084 - val_accuracy: 1.0000\n",
      "Epoch 4/20\n",
      "48/48 [==============================] - 50s 1s/step - loss: 0.0259 - accuracy: 0.9935 - val_loss: 0.0060 - val_accuracy: 1.0000\n",
      "Epoch 5/20\n",
      "48/48 [==============================] - 53s 1s/step - loss: 0.0215 - accuracy: 0.9941 - val_loss: 0.0037 - val_accuracy: 1.0000\n",
      "Epoch 6/20\n",
      "48/48 [==============================] - 51s 1s/step - loss: 0.0165 - accuracy: 0.9974 - val_loss: 0.0028 - val_accuracy: 1.0000\n",
      "Epoch 7/20\n",
      "48/48 [==============================] - 50s 1s/step - loss: 0.0127 - accuracy: 0.9967 - val_loss: 0.0022 - val_accuracy: 1.0000\n",
      "Epoch 8/20\n",
      "48/48 [==============================] - 49s 1s/step - loss: 0.0077 - accuracy: 0.9993 - val_loss: 0.0020 - val_accuracy: 1.0000\n",
      "Epoch 9/20\n",
      "48/48 [==============================] - 47s 986ms/step - loss: 0.0149 - accuracy: 0.9954 - val_loss: 0.0016 - val_accuracy: 1.0000\n",
      "Epoch 10/20\n",
      "48/48 [==============================] - 49s 1s/step - loss: 0.0083 - accuracy: 0.9987 - val_loss: 0.0016 - val_accuracy: 1.0000\n",
      "Epoch 11/20\n",
      "48/48 [==============================] - 50s 1s/step - loss: 0.0122 - accuracy: 0.9961 - val_loss: 0.0014 - val_accuracy: 1.0000\n",
      "Epoch 12/20\n",
      "48/48 [==============================] - 49s 1s/step - loss: 0.0074 - accuracy: 0.9967 - val_loss: 0.0012 - val_accuracy: 1.0000\n",
      "Epoch 13/20\n",
      "48/48 [==============================] - 48s 1s/step - loss: 0.0067 - accuracy: 0.9980 - val_loss: 0.0011 - val_accuracy: 1.0000\n",
      "Epoch 14/20\n",
      "48/48 [==============================] - 53s 1s/step - loss: 0.0058 - accuracy: 0.9987 - val_loss: 8.8090e-04 - val_accuracy: 1.0000\n",
      "Epoch 15/20\n",
      "48/48 [==============================] - 52s 1s/step - loss: 0.0062 - accuracy: 0.9980 - val_loss: 0.0011 - val_accuracy: 1.0000\n",
      "Epoch 16/20\n",
      "48/48 [==============================] - 53s 1s/step - loss: 0.0037 - accuracy: 0.9993 - val_loss: 7.6274e-04 - val_accuracy: 1.0000\n",
      "Epoch 17/20\n",
      "48/48 [==============================] - 51s 1s/step - loss: 0.0090 - accuracy: 0.9967 - val_loss: 9.4727e-04 - val_accuracy: 1.0000\n",
      "Epoch 18/20\n",
      "48/48 [==============================] - 52s 1s/step - loss: 0.0036 - accuracy: 0.9993 - val_loss: 0.0010 - val_accuracy: 1.0000\n",
      "Epoch 19/20\n",
      "48/48 [==============================] - 48s 991ms/step - loss: 0.0039 - accuracy: 1.0000 - val_loss: 5.8495e-04 - val_accuracy: 1.0000\n",
      "Epoch 20/20\n",
      "48/48 [==============================] - 47s 983ms/step - loss: 0.0032 - accuracy: 0.9993 - val_loss: 5.8626e-04 - val_accuracy: 1.0000\n"
     ]
    }
   ],
   "source": [
    "# Compiling and training\n",
    "opt = Adam(lr = INIT_LR, decay=INIT_LR / EPOCHS)\n",
    "\n",
    "model.compile(loss='binary_crossentropy', optimizer=opt, metrics=['accuracy'])\n",
    "\n",
    "H = model.fit(aug.flow(trainX, trainY, batch_size=BS),\n",
    "             steps_per_epoch= len(trainX) // BS,\n",
    "             validation_data=(testX, testY),\n",
    "             validation_steps=len(testX) // BS,\n",
    "             epochs = EPOCHS,)"
   ]
  },
  {
   "cell_type": "code",
   "execution_count": 9,
   "id": "bce8e4d5",
   "metadata": {},
   "outputs": [
    {
     "name": "stdout",
     "output_type": "stream",
     "text": [
      "              precision    recall  f1-score   support\n",
      "\n",
      "   with_mask       1.00      1.00      1.00       190\n",
      "without_mask       1.00      1.00      1.00       200\n",
      "\n",
      "    accuracy                           1.00       390\n",
      "   macro avg       1.00      1.00      1.00       390\n",
      "weighted avg       1.00      1.00      1.00       390\n",
      "\n"
     ]
    }
   ],
   "source": [
    "# Predicting the model\n",
    "predIdxs = model.predict(testX, batch_size = BS)\n",
    "\n",
    "# each testing image finding largest index label probability \n",
    "predIdxs = np.argmax(predIdxs, axis=1)\n",
    "\n",
    "print(classification_report(testY.argmax(axis=1), predIdxs, target_names = lb.classes_))\n",
    "\n",
    "model.save('mask_detector.model', save_format='h5')"
   ]
  },
  {
   "cell_type": "code",
   "execution_count": 16,
   "id": "f17f8710",
   "metadata": {},
   "outputs": [
    {
     "data": {
      "image/png": "[encoded data removed]",
      "text/plain": [
       "<Figure size 432x288 with 1 Axes>"
      ]
     },
     "metadata": {
      "needs_background": "light"
     },
     "output_type": "display_data"
    }
   ],
   "source": [
    "# Ploting accuracy\n",
    "plt.figure(0)\n",
    "plt.plot(H.history['accuracy'], label='training accuracy')\n",
    "plt.plot(H.history['val_accuracy'], label='val accuracy')\n",
    "plt.title('Accuracy')\n",
    "plt.xlabel('epochs')\n",
    "plt.ylabel('accuracy')\n",
    "plt.legend()\n",
    "plt.show()"
   ]
  },
  {
   "cell_type": "code",
   "execution_count": 14,
   "id": "6d67e7a1",
   "metadata": {},
   "outputs": [
    {
     "data": {
      "image/png": "[encoded data removed]",
      "text/plain": [
       "<Figure size 432x288 with 1 Axes>"
      ]
     },
     "metadata": {
      "needs_background": "light"
     },
     "output_type": "display_data"
    }
   ],
   "source": [
    "# Ploting loss\n",
    "plt.plot(H.history['loss'], label= 'training loss')\n",
    "plt.plot(H.history['val_loss'], label= 'val loss')\n",
    "plt.title('Loss')\n",
    "plt.xlabel('epochs')\n",
    "plt.ylabel('loss')\n",
    "plt.legend()\n",
    "plt.show()"
   ]
  },
  {
   "cell_type": "code",
   "execution_count": null,
   "id": "40fd6c7d",
   "metadata": {},
   "outputs": [],
   "source": []
  }
 ],
 "metadata": {
  "kernelspec": {
   "display_name": "Python 3",
   "language": "python",
   "name": "python3"
  },
  "language_info": {
   "codemirror_mode": {
    "name": "ipython",
    "version": 3
   },
   "file_extension": ".py",
   "mimetype": "text/x-python",
   "name": "python",
   "nbconvert_exporter": "python",
   "pygments_lexer": "ipython3",
   "version": "3.8.8"
  }
 },
 "nbformat": 4,
 "nbformat_minor": 5
}
