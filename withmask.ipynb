{
 "cells": [
  {
   "cell_type": "code",
   "execution_count": 1,
   "id": "4d02f80e",
   "metadata": {},
   "outputs": [],
   "source": [
    "import cv2\n",
    "import numpy as np\n",
    "import matplotlib.pyplot as plt\n",
    "import glob\n"
   ]
  },
  {
   "cell_type": "code",
   "execution_count": 2,
   "id": "f8fffb22",
   "metadata": {},
   "outputs": [],
   "source": [
    "haar_data= cv2.CascadeClassifier('haarcascade.xml')"
   ]
  },
  {
   "cell_type": "code",
   "execution_count": 3,
   "id": "80d52c1e",
   "metadata": {},
   "outputs": [],
   "source": [
    "path = glob.glob(r'C:\\Users\\hp\\OneDrive\\Desktop\\mask detect\\with_mask\\*.jpg')\n",
    "data = []"
   ]
  },
  {
   "cell_type": "code",
   "execution_count": 4,
   "id": "b56966ab",
   "metadata": {},
   "outputs": [],
   "source": [
    "for img in path:\n",
    "    png = cv2.imread(img)\n",
    "    faces = haar_data.detectMultiScale(png)\n",
    "    for x,y,w,h in faces:\n",
    "        cv2.rectangle(png,(x,y),(x+w,y+h),(255,0,255),4)\n",
    "        face = png[y:y+h, x:x+w, :]\n",
    "        face = cv2.resize(face,(224,224))\n",
    "        data.append(face)\n",
    "   \n",
    "        "
   ]
  },
  {
   "cell_type": "code",
   "execution_count": 5,
   "id": "e63dd2b4",
   "metadata": {},
   "outputs": [],
   "source": [
    "np.save('with_mask.npy',data)"
   ]
  },
  {
   "cell_type": "code",
   "execution_count": 6,
   "id": "812a1083",
   "metadata": {},
   "outputs": [],
   "source": [
    "with_mask = np.load('with_mask.npy')"
   ]
  },
  {
   "cell_type": "code",
   "execution_count": 7,
   "id": "ed823a6d",
   "metadata": {},
   "outputs": [
    {
     "data": {
      "text/plain": [
       "(1125, 224, 224, 3)"
      ]
     },
     "execution_count": 7,
     "metadata": {},
     "output_type": "execute_result"
    }
   ],
   "source": [
    "with_mask.shape"
   ]
  },
  {
   "cell_type": "code",
   "execution_count": null,
   "id": "ac089aa3",
   "metadata": {},
   "outputs": [],
   "source": []
  },
  {
   "cell_type": "code",
   "execution_count": null,
   "id": "b2baf05f",
   "metadata": {},
   "outputs": [],
   "source": [
    "\n",
    "   "
   ]
  },
  {
   "cell_type": "code",
   "execution_count": null,
   "id": "6bd1865b",
   "metadata": {},
   "outputs": [],
   "source": []
  },
  {
   "cell_type": "code",
   "execution_count": null,
   "id": "79643fef",
   "metadata": {},
   "outputs": [],
   "source": []
  },
  {
   "cell_type": "code",
   "execution_count": null,
   "id": "4c241ad1",
   "metadata": {},
   "outputs": [],
   "source": [
    "\n"
   ]
  },
  {
   "cell_type": "code",
   "execution_count": null,
   "id": "f594f237",
   "metadata": {},
   "outputs": [],
   "source": []
  }
 ],
 "metadata": {
  "kernelspec": {
   "display_name": "Python 3",
   "language": "python",
   "name": "python3"
  },
  "language_info": {
   "codemirror_mode": {
    "name": "ipython",
    "version": 3
   },
   "file_extension": ".py",
   "mimetype": "text/x-python",
   "name": "python",
   "nbconvert_exporter": "python",
   "pygments_lexer": "ipython3",
   "version": "3.8.8"
  }
 },
 "nbformat": 4,
 "nbformat_minor": 5
}
