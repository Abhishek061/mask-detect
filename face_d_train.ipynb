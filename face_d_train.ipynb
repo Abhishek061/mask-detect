{
 "cells": [
  {
   "cell_type": "code",
   "execution_count": null,
   "id": "ffef3c06",
   "metadata": {},
   "outputs": [],
   "source": [
    "from tensorflow.keras.preprocessing.image import ImageDataGenerator\n",
    "from tensorflow.keras.applications import MobileNetV2\n",
    "from tensorflow.keras.layers import AveragePooling2D\n",
    "from tensorflow.keras.layers import Dropout\n",
    "from tensorflow.keras.layers import Flatten\n",
    "from tensorflow.keras.layers import Dense\n",
    "from tensorflow.keras.layers import Input\n",
    "from tensorflow.keras.models import Model\n",
    "from tensorflow.keras.optimizers import Adam\n",
    "from tensorflow.keras.applications.mobilenet_v2 import preprocess_input\n",
    "from tensorflow.keras.preprocessing.image import img_to_array\n",
    "from tensorflow.keras.preprocessing.image import load_img\n",
    "from tensorflow.keras.utils import to_categorical\n",
    "from sklearn.preprocessing import LabelBinarizer\n",
    "from sklearn.model_selection import train_test_split\n",
    "from sklearn.metrics import classification_report\n",
    "from imutils import paths\n",
    "import matplotlib.pyplot as plt\n",
    "import numpy as np\n",
    "import os"
   ]
  },
  {
   "cell_type": "code",
   "execution_count": null,
   "id": "09be4b20",
   "metadata": {},
   "outputs": [],
   "source": [
    "with_mask = np.load('with_mask.npy')\n",
    "without_mask = np.load('without_mask.npy')"
   ]
  },
  {
   "cell_type": "code",
   "execution_count": null,
   "id": "bad2ab67",
   "metadata": {},
   "outputs": [],
   "source": [
    "with_mask.shape"
   ]
  },
  {
   "cell_type": "code",
   "execution_count": null,
   "id": "c08ca133",
   "metadata": {},
   "outputs": [],
   "source": [
    "without_mask.shape"
   ]
  },
  {
   "cell_type": "code",
   "execution_count": null,
   "id": "19805cad",
   "metadata": {},
   "outputs": [],
   "source": [
    "X=np.r_[without_mask, with_mask]"
   ]
  },
  {
   "cell_type": "code",
   "execution_count": null,
   "id": "7ceb6179",
   "metadata": {},
   "outputs": [],
   "source": [
    "X.shape"
   ]
  },
  {
   "cell_type": "code",
   "execution_count": null,
   "id": "342f0c5b",
   "metadata": {},
   "outputs": [],
   "source": [
    "labels=np.zeros(X.shape[0])"
   ]
  },
  {
   "cell_type": "code",
   "execution_count": null,
   "id": "69012025",
   "metadata": {},
   "outputs": [],
   "source": [
    "labels[1184:]=1.0"
   ]
  },
  {
   "cell_type": "code",
   "execution_count": null,
   "id": "eb56ee41",
   "metadata": {},
   "outputs": [],
   "source": [
    "names={0:'No Mask',1:'Mask'}"
   ]
  },
  {
   "cell_type": "code",
   "execution_count": null,
   "id": "edb94669",
   "metadata": {},
   "outputs": [],
   "source": [
    "from sklearn.svm import SVC\n",
    "from sklearn.metrics import accuracy_score\n",
    "from sklearn.model_selection import train_test_split"
   ]
  },
  {
   "cell_type": "code",
   "execution_count": null,
   "id": "c64ac449",
   "metadata": {},
   "outputs": [],
   "source": [
    "(trainX, testX, trainY, testY) = train_test_split(X, labels, test_size=0.20, stratify=labels)"
   ]
  },
  {
   "cell_type": "code",
   "execution_count": null,
   "id": "d1fe7152",
   "metadata": {},
   "outputs": [],
   "source": [
    "trainX.shape"
   ]
  },
  {
   "cell_type": "code",
   "execution_count": null,
   "id": "5f1dee41",
   "metadata": {},
   "outputs": [],
   "source": [
    "# Increasing dataset by augmentation\n",
    "aug = ImageDataGenerator(\n",
    "    rotation_range= 20,\n",
    "    zoom_range=0.15,\n",
    "    width_shift_range=0.2,\n",
    "    height_shift_range=0.2,\n",
    "    shear_range=0.15,\n",
    "    horizontal_flip=True,\n",
    "    fill_mode='nearest')"
   ]
  },
  {
   "cell_type": "code",
   "execution_count": null,
   "id": "21ad7ec7",
   "metadata": {},
   "outputs": [],
   "source": [
    "#base model by MobileNet\n",
    "baseModel = MobileNetV2(weights='imagenet', include_top=False, input_tensor= Input(shape=(224,224,3)))\n",
    "\n",
    "#head of the model place on top of base model \n",
    "headModel = baseModel.output \n",
    "headModel = AveragePooling2D(pool_size=(7,7))(headModel)\n",
    "headModel = Flatten(name='flattern')(headModel)\n",
    "headModel = Dense(128, activation='relu')(headModel)\n",
    "headModel = Dropout(0.5)(headModel)\n",
    "headModel = Dense(2, activation='softmax')(headModel)\n",
    "\n",
    "model = Model(inputs = baseModel.input, outputs = headModel)\n",
    "\n",
    "#freezing the baseModel so that weight will not updated \n",
    "for layer in baseModel.layers:\n",
    "    layer.trainable = False"
   ]
  },
  {
   "cell_type": "code",
   "execution_count": null,
   "id": "5c233ae2",
   "metadata": {},
   "outputs": [],
   "source": [
    "# Initialising value\n",
    "INIT_LR = 1e-8\n",
    "EPOCHS = 10\n",
    "BS = 30"
   ]
  },
  {
   "cell_type": "code",
   "execution_count": null,
   "id": "fc2bc4dd",
   "metadata": {},
   "outputs": [],
   "source": [
    "# Compiling and training\n",
    "opt = Adam(lr = INIT_LR, decay=INIT_LR / EPOCHS)\n",
    "\n",
    "model.compile(loss='binary_crossentropy', optimizer=opt, metrics=['accuracy'])\n",
    "\n",
    "H = model.fit(aug.flow(trainX, trainY, batch_size=BS),\n",
    "             steps_per_epoch= len(trainX) // BS,\n",
    "             validation_data=(testX, testY),\n",
    "             validation_steps=len(testX) // BS,\n",
    "             epochs = EPOCHS,)"
   ]
  },
  {
   "cell_type": "code",
   "execution_count": null,
   "id": "a4fa7be4",
   "metadata": {},
   "outputs": [],
   "source": []
  },
  {
   "cell_type": "code",
   "execution_count": null,
   "id": "e7508624",
   "metadata": {},
   "outputs": [],
   "source": [
    "# Predicting the model\n",
    "predIdxs = model.predict(testX, batch_size = BS)\n",
    "\n",
    "# each testing image finding largest index label probability \n",
    "predIdxs = np.argmax(predIdxs, axis=1)\n",
    "\n",
    "print(classification_report(testY.argmax(axis=1), predIdxs, target_names = lb.classes_))\n",
    "\n",
    "model.save('mask_detector.model', save_format='h5')"
   ]
  },
  {
   "cell_type": "code",
   "execution_count": null,
   "id": "5db7c58d",
   "metadata": {},
   "outputs": [],
   "source": []
  },
  {
   "cell_type": "code",
   "execution_count": null,
   "id": "d8e24d17",
   "metadata": {},
   "outputs": [],
   "source": []
  },
  {
   "cell_type": "code",
   "execution_count": null,
   "id": "03a68de3",
   "metadata": {},
   "outputs": [],
   "source": []
  },
  {
   "cell_type": "code",
   "execution_count": null,
   "id": "ebafe7a0",
   "metadata": {},
   "outputs": [],
   "source": []
  }
 ],
 "metadata": {
  "kernelspec": {
   "display_name": "Python 3",
   "language": "python",
   "name": "python3"
  },
  "language_info": {
   "codemirror_mode": {
    "name": "ipython",
    "version": 3
   },
   "file_extension": ".py",
   "mimetype": "text/x-python",
   "name": "python",
   "nbconvert_exporter": "python",
   "pygments_lexer": "ipython3",
   "version": "3.8.8"
  }
 },
 "nbformat": 4,
 "nbformat_minor": 5
}
